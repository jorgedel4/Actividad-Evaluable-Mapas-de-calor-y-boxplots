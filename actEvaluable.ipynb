{
 "cells": [
  {
   "cell_type": "markdown",
   "metadata": {},
   "source": [
    "# Actividad Evaluable: Mapas de calor y boxplots\n",
    "---\n",
    "Integrantes:\n",
    "- Jorge Angel Delgado Morales (A01551955)\n",
    "- Juan Carlos Ferrer Echeverría (A01734794)\n",
    "- Diego García Rueda (A01735217)\n"
   ]
  },
  {
   "cell_type": "markdown",
   "metadata": {},
   "source": [
    "#### Importando pandas y matplotlib, posteriormente leyendo la información"
   ]
  },
  {
   "cell_type": "code",
   "execution_count": 98,
   "metadata": {},
   "outputs": [],
   "source": [
    "import pandas as pd\n",
    "import numpy as np\n",
    "import matplotlib.pyplot as plt\n",
    "df = pd.read_csv(\"ulabox_orders_with_categories_partials_2017.csv\")"
   ]
  },
  {
   "cell_type": "markdown",
   "metadata": {},
   "source": [
    "#### Tamaño del dataframe"
   ]
  },
  {
   "cell_type": "code",
   "execution_count": 99,
   "metadata": {},
   "outputs": [
    {
     "name": "stdout",
     "output_type": "stream",
     "text": [
      "Número de columnas: 14\n",
      "Número de filas: 30000\n"
     ]
    }
   ],
   "source": [
    "columnas = len(df.columns)\n",
    "filas = len(df)\n",
    "print(f\"Número de columnas: {columnas}\")\n",
    "print(f\"Número de filas: {filas}\")"
   ]
  },
  {
   "cell_type": "markdown",
   "metadata": {},
   "source": [
    "Tipos de variables aleatorias (Discretas vs Continuas):\n",
    "* **Discretas**: customer, hour, weekday, \n",
    "* **Continuas**: order, total_items, discount%, Food%, Fresh%, Drinks%, Home%, Beauty%, Health%, Baby%, Pets%\n",
    "\n"
   ]
  },
  {
   "cell_type": "markdown",
   "metadata": {},
   "source": [
    "#### Descripción general del dataframe"
   ]
  },
  {
   "cell_type": "code",
   "execution_count": 100,
   "metadata": {},
   "outputs": [
    {
     "data": {
      "text/html": [
       "<div>\n",
       "<style scoped>\n",
       "    .dataframe tbody tr th:only-of-type {\n",
       "        vertical-align: middle;\n",
       "    }\n",
       "\n",
       "    .dataframe tbody tr th {\n",
       "        vertical-align: top;\n",
       "    }\n",
       "\n",
       "    .dataframe thead th {\n",
       "        text-align: right;\n",
       "    }\n",
       "</style>\n",
       "<table border=\"1\" class=\"dataframe\">\n",
       "  <thead>\n",
       "    <tr style=\"text-align: right;\">\n",
       "      <th></th>\n",
       "      <th>customer</th>\n",
       "      <th>order</th>\n",
       "      <th>total_items</th>\n",
       "      <th>discount%</th>\n",
       "      <th>weekday</th>\n",
       "      <th>hour</th>\n",
       "      <th>Food%</th>\n",
       "      <th>Fresh%</th>\n",
       "      <th>Drinks%</th>\n",
       "      <th>Home%</th>\n",
       "      <th>Beauty%</th>\n",
       "      <th>Health%</th>\n",
       "      <th>Baby%</th>\n",
       "      <th>Pets%</th>\n",
       "    </tr>\n",
       "  </thead>\n",
       "  <tbody>\n",
       "    <tr>\n",
       "      <th>count</th>\n",
       "      <td>30000.000000</td>\n",
       "      <td>30000.000000</td>\n",
       "      <td>30000.000000</td>\n",
       "      <td>30000.000000</td>\n",
       "      <td>30000.000000</td>\n",
       "      <td>30000.000000</td>\n",
       "      <td>30000.000000</td>\n",
       "      <td>30000.000000</td>\n",
       "      <td>30000.000000</td>\n",
       "      <td>30000.000000</td>\n",
       "      <td>30000.000000</td>\n",
       "      <td>30000.000000</td>\n",
       "      <td>30000.000000</td>\n",
       "      <td>30000.000000</td>\n",
       "    </tr>\n",
       "    <tr>\n",
       "      <th>mean</th>\n",
       "      <td>5012.483367</td>\n",
       "      <td>14999.500000</td>\n",
       "      <td>31.739933</td>\n",
       "      <td>8.455495</td>\n",
       "      <td>3.642367</td>\n",
       "      <td>15.034667</td>\n",
       "      <td>23.560406</td>\n",
       "      <td>20.227279</td>\n",
       "      <td>23.349235</td>\n",
       "      <td>13.539575</td>\n",
       "      <td>5.892949</td>\n",
       "      <td>1.132959</td>\n",
       "      <td>11.096145</td>\n",
       "      <td>1.043087</td>\n",
       "    </tr>\n",
       "    <tr>\n",
       "      <th>std</th>\n",
       "      <td>2888.646245</td>\n",
       "      <td>8660.398374</td>\n",
       "      <td>20.576579</td>\n",
       "      <td>14.199350</td>\n",
       "      <td>2.122031</td>\n",
       "      <td>5.717052</td>\n",
       "      <td>21.719824</td>\n",
       "      <td>23.661767</td>\n",
       "      <td>22.523335</td>\n",
       "      <td>17.850282</td>\n",
       "      <td>13.996518</td>\n",
       "      <td>5.307620</td>\n",
       "      <td>24.740364</td>\n",
       "      <td>6.195390</td>\n",
       "    </tr>\n",
       "    <tr>\n",
       "      <th>min</th>\n",
       "      <td>0.000000</td>\n",
       "      <td>0.000000</td>\n",
       "      <td>1.000000</td>\n",
       "      <td>-65.150000</td>\n",
       "      <td>1.000000</td>\n",
       "      <td>0.000000</td>\n",
       "      <td>0.000000</td>\n",
       "      <td>0.000000</td>\n",
       "      <td>0.000000</td>\n",
       "      <td>0.000000</td>\n",
       "      <td>0.000000</td>\n",
       "      <td>0.000000</td>\n",
       "      <td>0.000000</td>\n",
       "      <td>0.000000</td>\n",
       "    </tr>\n",
       "    <tr>\n",
       "      <th>25%</th>\n",
       "      <td>2541.750000</td>\n",
       "      <td>7499.750000</td>\n",
       "      <td>18.000000</td>\n",
       "      <td>1.177500</td>\n",
       "      <td>2.000000</td>\n",
       "      <td>11.000000</td>\n",
       "      <td>7.220000</td>\n",
       "      <td>0.000000</td>\n",
       "      <td>6.710000</td>\n",
       "      <td>0.000000</td>\n",
       "      <td>0.000000</td>\n",
       "      <td>0.000000</td>\n",
       "      <td>0.000000</td>\n",
       "      <td>0.000000</td>\n",
       "    </tr>\n",
       "    <tr>\n",
       "      <th>50%</th>\n",
       "      <td>5043.000000</td>\n",
       "      <td>14999.500000</td>\n",
       "      <td>29.000000</td>\n",
       "      <td>4.160000</td>\n",
       "      <td>3.000000</td>\n",
       "      <td>15.000000</td>\n",
       "      <td>19.650000</td>\n",
       "      <td>10.930000</td>\n",
       "      <td>17.890000</td>\n",
       "      <td>7.210000</td>\n",
       "      <td>0.000000</td>\n",
       "      <td>0.000000</td>\n",
       "      <td>0.000000</td>\n",
       "      <td>0.000000</td>\n",
       "    </tr>\n",
       "    <tr>\n",
       "      <th>75%</th>\n",
       "      <td>7483.000000</td>\n",
       "      <td>22499.250000</td>\n",
       "      <td>41.000000</td>\n",
       "      <td>9.990000</td>\n",
       "      <td>5.000000</td>\n",
       "      <td>20.000000</td>\n",
       "      <td>33.260000</td>\n",
       "      <td>35.790000</td>\n",
       "      <td>33.162500</td>\n",
       "      <td>20.002500</td>\n",
       "      <td>6.512500</td>\n",
       "      <td>0.000000</td>\n",
       "      <td>4.172500</td>\n",
       "      <td>0.000000</td>\n",
       "    </tr>\n",
       "    <tr>\n",
       "      <th>max</th>\n",
       "      <td>10238.000000</td>\n",
       "      <td>29999.000000</td>\n",
       "      <td>298.000000</td>\n",
       "      <td>100.000000</td>\n",
       "      <td>7.000000</td>\n",
       "      <td>23.000000</td>\n",
       "      <td>100.000000</td>\n",
       "      <td>100.000000</td>\n",
       "      <td>100.000000</td>\n",
       "      <td>100.000000</td>\n",
       "      <td>100.000000</td>\n",
       "      <td>100.000000</td>\n",
       "      <td>100.000000</td>\n",
       "      <td>100.000000</td>\n",
       "    </tr>\n",
       "  </tbody>\n",
       "</table>\n",
       "</div>"
      ],
      "text/plain": [
       "           customer         order   total_items     discount%       weekday  \\\n",
       "count  30000.000000  30000.000000  30000.000000  30000.000000  30000.000000   \n",
       "mean    5012.483367  14999.500000     31.739933      8.455495      3.642367   \n",
       "std     2888.646245   8660.398374     20.576579     14.199350      2.122031   \n",
       "min        0.000000      0.000000      1.000000    -65.150000      1.000000   \n",
       "25%     2541.750000   7499.750000     18.000000      1.177500      2.000000   \n",
       "50%     5043.000000  14999.500000     29.000000      4.160000      3.000000   \n",
       "75%     7483.000000  22499.250000     41.000000      9.990000      5.000000   \n",
       "max    10238.000000  29999.000000    298.000000    100.000000      7.000000   \n",
       "\n",
       "               hour         Food%        Fresh%       Drinks%         Home%  \\\n",
       "count  30000.000000  30000.000000  30000.000000  30000.000000  30000.000000   \n",
       "mean      15.034667     23.560406     20.227279     23.349235     13.539575   \n",
       "std        5.717052     21.719824     23.661767     22.523335     17.850282   \n",
       "min        0.000000      0.000000      0.000000      0.000000      0.000000   \n",
       "25%       11.000000      7.220000      0.000000      6.710000      0.000000   \n",
       "50%       15.000000     19.650000     10.930000     17.890000      7.210000   \n",
       "75%       20.000000     33.260000     35.790000     33.162500     20.002500   \n",
       "max       23.000000    100.000000    100.000000    100.000000    100.000000   \n",
       "\n",
       "            Beauty%       Health%         Baby%         Pets%  \n",
       "count  30000.000000  30000.000000  30000.000000  30000.000000  \n",
       "mean       5.892949      1.132959     11.096145      1.043087  \n",
       "std       13.996518      5.307620     24.740364      6.195390  \n",
       "min        0.000000      0.000000      0.000000      0.000000  \n",
       "25%        0.000000      0.000000      0.000000      0.000000  \n",
       "50%        0.000000      0.000000      0.000000      0.000000  \n",
       "75%        6.512500      0.000000      4.172500      0.000000  \n",
       "max      100.000000    100.000000    100.000000    100.000000  "
      ]
     },
     "execution_count": 100,
     "metadata": {},
     "output_type": "execute_result"
    }
   ],
   "source": [
    "df.describe()"
   ]
  },
  {
   "cell_type": "markdown",
   "metadata": {},
   "source": [
    "#### Información sobre los tipos de datos"
   ]
  },
  {
   "cell_type": "code",
   "execution_count": 101,
   "metadata": {},
   "outputs": [
    {
     "name": "stdout",
     "output_type": "stream",
     "text": [
      "<class 'pandas.core.frame.DataFrame'>\n",
      "RangeIndex: 30000 entries, 0 to 29999\n",
      "Data columns (total 14 columns):\n",
      " #   Column       Non-Null Count  Dtype  \n",
      "---  ------       --------------  -----  \n",
      " 0   customer     30000 non-null  int64  \n",
      " 1   order        30000 non-null  int64  \n",
      " 2   total_items  30000 non-null  int64  \n",
      " 3   discount%    30000 non-null  float64\n",
      " 4   weekday      30000 non-null  int64  \n",
      " 5   hour         30000 non-null  int64  \n",
      " 6   Food%        30000 non-null  float64\n",
      " 7   Fresh%       30000 non-null  float64\n",
      " 8   Drinks%      30000 non-null  float64\n",
      " 9   Home%        30000 non-null  float64\n",
      " 10  Beauty%      30000 non-null  float64\n",
      " 11  Health%      30000 non-null  float64\n",
      " 12  Baby%        30000 non-null  float64\n",
      " 13  Pets%        30000 non-null  float64\n",
      "dtypes: float64(9), int64(5)\n",
      "memory usage: 3.2 MB\n"
     ]
    }
   ],
   "source": [
    "df.info()"
   ]
  },
  {
   "cell_type": "markdown",
   "metadata": {},
   "source": [
    "#### Ejemplo de los primeros elementos del dataframe"
   ]
  },
  {
   "cell_type": "code",
   "execution_count": 102,
   "metadata": {},
   "outputs": [
    {
     "data": {
      "text/html": [
       "<div>\n",
       "<style scoped>\n",
       "    .dataframe tbody tr th:only-of-type {\n",
       "        vertical-align: middle;\n",
       "    }\n",
       "\n",
       "    .dataframe tbody tr th {\n",
       "        vertical-align: top;\n",
       "    }\n",
       "\n",
       "    .dataframe thead th {\n",
       "        text-align: right;\n",
       "    }\n",
       "</style>\n",
       "<table border=\"1\" class=\"dataframe\">\n",
       "  <thead>\n",
       "    <tr style=\"text-align: right;\">\n",
       "      <th></th>\n",
       "      <th>customer</th>\n",
       "      <th>order</th>\n",
       "      <th>total_items</th>\n",
       "      <th>discount%</th>\n",
       "      <th>weekday</th>\n",
       "      <th>hour</th>\n",
       "      <th>Food%</th>\n",
       "      <th>Fresh%</th>\n",
       "      <th>Drinks%</th>\n",
       "      <th>Home%</th>\n",
       "      <th>Beauty%</th>\n",
       "      <th>Health%</th>\n",
       "      <th>Baby%</th>\n",
       "      <th>Pets%</th>\n",
       "    </tr>\n",
       "  </thead>\n",
       "  <tbody>\n",
       "    <tr>\n",
       "      <th>0</th>\n",
       "      <td>0</td>\n",
       "      <td>0</td>\n",
       "      <td>45</td>\n",
       "      <td>23.03</td>\n",
       "      <td>4</td>\n",
       "      <td>13</td>\n",
       "      <td>9.46</td>\n",
       "      <td>87.06</td>\n",
       "      <td>3.48</td>\n",
       "      <td>0.00</td>\n",
       "      <td>0.00</td>\n",
       "      <td>0.00</td>\n",
       "      <td>0.0</td>\n",
       "      <td>0.0</td>\n",
       "    </tr>\n",
       "    <tr>\n",
       "      <th>1</th>\n",
       "      <td>0</td>\n",
       "      <td>1</td>\n",
       "      <td>38</td>\n",
       "      <td>1.22</td>\n",
       "      <td>5</td>\n",
       "      <td>13</td>\n",
       "      <td>15.87</td>\n",
       "      <td>75.80</td>\n",
       "      <td>6.22</td>\n",
       "      <td>2.12</td>\n",
       "      <td>0.00</td>\n",
       "      <td>0.00</td>\n",
       "      <td>0.0</td>\n",
       "      <td>0.0</td>\n",
       "    </tr>\n",
       "    <tr>\n",
       "      <th>2</th>\n",
       "      <td>0</td>\n",
       "      <td>2</td>\n",
       "      <td>51</td>\n",
       "      <td>18.08</td>\n",
       "      <td>4</td>\n",
       "      <td>13</td>\n",
       "      <td>16.88</td>\n",
       "      <td>56.75</td>\n",
       "      <td>3.37</td>\n",
       "      <td>16.48</td>\n",
       "      <td>6.53</td>\n",
       "      <td>0.00</td>\n",
       "      <td>0.0</td>\n",
       "      <td>0.0</td>\n",
       "    </tr>\n",
       "    <tr>\n",
       "      <th>3</th>\n",
       "      <td>1</td>\n",
       "      <td>3</td>\n",
       "      <td>57</td>\n",
       "      <td>16.51</td>\n",
       "      <td>1</td>\n",
       "      <td>12</td>\n",
       "      <td>28.81</td>\n",
       "      <td>35.99</td>\n",
       "      <td>11.78</td>\n",
       "      <td>4.62</td>\n",
       "      <td>2.87</td>\n",
       "      <td>15.92</td>\n",
       "      <td>0.0</td>\n",
       "      <td>0.0</td>\n",
       "    </tr>\n",
       "    <tr>\n",
       "      <th>4</th>\n",
       "      <td>1</td>\n",
       "      <td>4</td>\n",
       "      <td>53</td>\n",
       "      <td>18.31</td>\n",
       "      <td>2</td>\n",
       "      <td>11</td>\n",
       "      <td>24.13</td>\n",
       "      <td>60.38</td>\n",
       "      <td>7.78</td>\n",
       "      <td>7.72</td>\n",
       "      <td>0.00</td>\n",
       "      <td>0.00</td>\n",
       "      <td>0.0</td>\n",
       "      <td>0.0</td>\n",
       "    </tr>\n",
       "  </tbody>\n",
       "</table>\n",
       "</div>"
      ],
      "text/plain": [
       "   customer  order  total_items  discount%  weekday  hour  Food%  Fresh%  \\\n",
       "0         0      0           45      23.03        4    13   9.46   87.06   \n",
       "1         0      1           38       1.22        5    13  15.87   75.80   \n",
       "2         0      2           51      18.08        4    13  16.88   56.75   \n",
       "3         1      3           57      16.51        1    12  28.81   35.99   \n",
       "4         1      4           53      18.31        2    11  24.13   60.38   \n",
       "\n",
       "   Drinks%  Home%  Beauty%  Health%  Baby%  Pets%  \n",
       "0     3.48   0.00     0.00     0.00    0.0    0.0  \n",
       "1     6.22   2.12     0.00     0.00    0.0    0.0  \n",
       "2     3.37  16.48     6.53     0.00    0.0    0.0  \n",
       "3    11.78   4.62     2.87    15.92    0.0    0.0  \n",
       "4     7.78   7.72     0.00     0.00    0.0    0.0  "
      ]
     },
     "execution_count": 102,
     "metadata": {},
     "output_type": "execute_result"
    }
   ],
   "source": [
    "df.head(5)"
   ]
  },
  {
   "cell_type": "markdown",
   "metadata": {},
   "source": [
    "#### Histograma de los departamentos (ordenes vs % de departamento)"
   ]
  },
  {
   "cell_type": "code",
   "execution_count": 103,
   "metadata": {},
   "outputs": [
    {
     "data": {
      "image/png": "[encoded data removed]",
      "text/plain": [
       "<Figure size 432x288 with 1 Axes>"
      ]
     },
     "metadata": {
      "needs_background": "light"
     },
     "output_type": "display_data"
    },
    {
     "data": {
      "image/png": "[encoded data removed]",
      "text/plain": [
       "<Figure size 432x288 with 1 Axes>"
      ]
     },
     "metadata": {
      "needs_background": "light"
     },
     "output_type": "display_data"
    },
    {
     "data": {
      "image/png": "[encoded data removed]",
      "text/plain": [
       "<Figure size 432x288 with 1 Axes>"
      ]
     },
     "metadata": {
      "needs_background": "light"
     },
     "output_type": "display_data"
    },
    {
     "data": {
      "image/png": "[encoded data removed]",
      "text/plain": [
       "<Figure size 432x288 with 1 Axes>"
      ]
     },
     "metadata": {
      "needs_background": "light"
     },
     "output_type": "display_data"
    },
    {
     "data": {
      "image/png": "[encoded data removed]",
      "text/plain": [
       "<Figure size 432x288 with 1 Axes>"
      ]
     },
     "metadata": {
      "needs_background": "light"
     },
     "output_type": "display_data"
    },
    {
     "data": {
      "image/png": "[encoded data removed]",
      "text/plain": [
       "<Figure size 432x288 with 1 Axes>"
      ]
     },
     "metadata": {
      "needs_background": "light"
     },
     "output_type": "display_data"
    },
    {
     "data": {
      "image/png": "[encoded data removed]",
      "text/plain": [
       "<Figure size 432x288 with 1 Axes>"
      ]
     },
     "metadata": {
      "needs_background": "light"
     },
     "output_type": "display_data"
    },
    {
     "data": {
      "image/png": "[encoded data removed]",
      "text/plain": [
       "<Figure size 432x288 with 1 Axes>"
      ]
     },
     "metadata": {
      "needs_background": "light"
     },
     "output_type": "display_data"
    }
   ],
   "source": [
    "departments = (\"Food%\", \"Fresh%\", \"Drinks%\", \"Home%\", \"Beauty%\", \"Health%\", \"Baby%\", \"Pets%\")\n",
    "for department in departments:\n",
    "    plt.hist(df[[department]])\n",
    "    plt.title(f\"Histograma - {department}\") \n",
    "    plt.ylabel(\"n de ordenes\")\n",
    "    plt.xlabel(\"% de compra\")\n",
    "    plt.show()"
   ]
  },
  {
   "cell_type": "markdown",
   "metadata": {},
   "source": [
    "## Análisis del tiempo"
   ]
  },
  {
   "cell_type": "markdown",
   "metadata": {},
   "source": [
    "#### Días de la semana (más ventas a menores ventas)\n",
    "Se aprecía que el **lunes** es el día más ocupado. Mientras que por el otro lado, el sábado es el que menos ordenes tiene"
   ]
  },
  {
   "cell_type": "code",
   "execution_count": 104,
   "metadata": {},
   "outputs": [
    {
     "data": {
      "text/plain": [
       "1    6237\n",
       "7    5160\n",
       "2    4970\n",
       "3    4708\n",
       "4    4081\n",
       "5    2538\n",
       "6    2306\n",
       "Name: weekday, dtype: int64"
      ]
     },
     "execution_count": 104,
     "metadata": {},
     "output_type": "execute_result"
    }
   ],
   "source": [
    "df['weekday'].value_counts()"
   ]
  },
  {
   "cell_type": "code",
   "execution_count": 105,
   "metadata": {},
   "outputs": [
    {
     "data": {
      "image/png": "[encoded data removed]",
      "text/plain": [
       "<Figure size 432x288 with 1 Axes>"
      ]
     },
     "metadata": {
      "needs_background": "light"
     },
     "output_type": "display_data"
    }
   ],
   "source": [
    "plt.hist(df[['weekday']])\n",
    "plt.xlabel(\"Día de la semana\")\n",
    "plt.ylabel(\"n de ordenes registradas\")\n",
    "plt.show()"
   ]
  },
  {
   "cell_type": "markdown",
   "metadata": {},
   "source": [
    "#### Horas del día (más ventas a menores ventas)\n",
    "La mayoría de las ventas fueron hechas a las 10pm (22hrs), y a las 4am se tiene el menor número de ordenes"
   ]
  },
  {
   "cell_type": "code",
   "execution_count": 106,
   "metadata": {},
   "outputs": [
    {
     "data": {
      "text/plain": [
       "22    2491\n",
       "21    2306\n",
       "12    2211\n",
       "11    2184\n",
       "20    2040\n",
       "10    2024\n",
       "13    1983\n",
       "23    1875\n",
       "19    1775\n",
       "18    1539\n",
       "17    1455\n",
       "9     1401\n",
       "16    1281\n",
       "15    1268\n",
       "14    1222\n",
       "8      926\n",
       "0      926\n",
       "7      358\n",
       "1      310\n",
       "6      125\n",
       "2      119\n",
       "3       76\n",
       "5       57\n",
       "4       48\n",
       "Name: hour, dtype: int64"
      ]
     },
     "execution_count": 106,
     "metadata": {},
     "output_type": "execute_result"
    }
   ],
   "source": [
    "df['hour'].value_counts()"
   ]
  },
  {
   "cell_type": "markdown",
   "metadata": {},
   "source": [
    "De igual manera se aprecia que en la madrugada se realizan muy pocas ordenes"
   ]
  },
  {
   "cell_type": "code",
   "execution_count": 107,
   "metadata": {},
   "outputs": [
    {
     "data": {
      "image/png": "[encoded data removed]",
      "text/plain": [
       "<Figure size 432x288 with 1 Axes>"
      ]
     },
     "metadata": {
      "needs_background": "light"
     },
     "output_type": "display_data"
    }
   ],
   "source": [
    "plt.hist(df[['hour']])\n",
    "plt.xlabel(\"Hora\")\n",
    "plt.ylabel(\"n de ordenes registradas\")\n",
    "plt.show()"
   ]
  },
  {
   "cell_type": "markdown",
   "metadata": {},
   "source": [
    "En el siguiente **heatmap** podemos ver los intervalos de tiempo con más ordenes"
   ]
  },
  {
   "cell_type": "code",
   "execution_count": 108,
   "metadata": {},
   "outputs": [
    {
     "data": {
      "image/png": "[encoded data removed]",
      "text/plain": [
       "<Figure size 432x288 with 2 Axes>"
      ]
     },
     "metadata": {
      "needs_background": "light"
     },
     "output_type": "display_data"
    }
   ],
   "source": [
    "days = list(range(1,8))\n",
    "hours = list(range(1,25))\n",
    "\n",
    "filler = np.zeros((len(days), len(hours)))\n",
    "\n",
    "for i in range(len(days)):\n",
    "    for j in range(len(hours)):\n",
    "        val = len(df.loc[(df['hour'] == j + 1) & (df['weekday'] == i + 1)])\n",
    "        filler[i][j] = val\n",
    "\n",
    "heatDF = pd.DataFrame(filler, columns=hours, index=days)\n",
    "\n",
    "plt.ylabel(\"Día de la semana\")\n",
    "plt.xlabel(\"Hora\")\n",
    "plt.title(\"Heatmap - Número de ordenes\")\n",
    "heatmap = plt.imshow(heatDF)\n",
    "plt.colorbar(heatmap);\n"
   ]
  },
  {
   "cell_type": "code",
   "execution_count": 116,
   "metadata": {},
   "outputs": [
    {
     "data": {
      "text/plain": [
       "<matplotlib.collections.PathCollection at 0x287470340>"
      ]
     },
     "execution_count": 116,
     "metadata": {},
     "output_type": "execute_result"
    },
    {
     "data": {
      "image/png": "[encoded data removed]",
      "text/plain": [
       "<Figure size 432x288 with 1 Axes>"
      ]
     },
     "metadata": {
      "needs_background": "light"
     },
     "output_type": "display_data"
    }
   ],
   "source": [
    "df['discount%'] = df['discount%'].abs()\n",
    "total_items = df['total_items'].tolist()\n",
    "discount = df['discount%'].tolist()\n",
    "\n",
    "plt.scatter(total_items, discount)\n"
   ]
  }
 ],
 "metadata": {
  "interpreter": {
   "hash": "aee8b7b246df8f9039afb4144a1f6fd8d2ca17a180786b69acc140d282b71a49"
  },
  "kernelspec": {
   "display_name": "Python 3.10.4 64-bit",
   "language": "python",
   "name": "python3"
  },
  "language_info": {
   "codemirror_mode": {
    "name": "ipython",
    "version": 3
   },
   "file_extension": ".py",
   "mimetype": "text/x-python",
   "name": "python",
   "nbconvert_exporter": "python",
   "pygments_lexer": "ipython3",
   "version": "3.10.4"
  },
  "orig_nbformat": 4
 },
 "nbformat": 4,
 "nbformat_minor": 2
}
